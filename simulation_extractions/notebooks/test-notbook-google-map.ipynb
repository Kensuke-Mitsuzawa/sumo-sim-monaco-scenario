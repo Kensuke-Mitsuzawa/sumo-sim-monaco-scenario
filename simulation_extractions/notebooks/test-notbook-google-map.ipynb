{
 "cells": [
  {
   "cell_type": "code",
   "execution_count": 1,
   "metadata": {},
   "outputs": [],
   "source": [
    "import typing as ty\n",
    "from pathlib import Path\n",
    "from logzero import logger\n",
    "import json"
   ]
  },
  {
   "cell_type": "code",
   "execution_count": 2,
   "metadata": {},
   "outputs": [],
   "source": [
    "PATH_GMAP_API = './configurations/gmap_apikey'\n",
    "PATH_DIR_LOAD_LIST_JSON = '/media/DATA/mitsuzaw/mmd-tst-variable-detector/demos/demo_sumo_monaco/output/mmd-algorithm-one/output_jsons'\n",
    "PATH_SUMO_NET_XML = '/home/mitsuzaw/codes/dev/sumo-sim-monaco/simulation_extractions/sumo_configs/base/standard_config/in/most.net.xml'"
   ]
  },
  {
   "cell_type": "code",
   "execution_count": 3,
   "metadata": {},
   "outputs": [
    {
     "data": {
      "text/plain": [
       "{'netOffset': [-368142.4, -4841896.61],\n",
       " 'convBoundary': [0.0, 0.0, 9975.22, 6362.01],\n",
       " 'origBoundary': [7.362913, 43.718985, 7.485778, 43.776857],\n",
       " 'projParameter': '+proj=utm +zone=32 +ellps=WGS84 +datum=WGS84 +units=m +no_defs'}"
      ]
     },
     "execution_count": 3,
     "metadata": {},
     "output_type": "execute_result"
    }
   ],
   "source": [
    "# function to extract geo-coding system from SUMO net file.\n",
    "# Must be in the library\n",
    "path_sumo_net_xml = Path(PATH_SUMO_NET_XML)\n",
    "\n",
    "import xml.etree.ElementTree as ET\n",
    "\n",
    "geolocation_obj: ty.Dict = {}\n",
    "\n",
    "iter_elem = ET.iterparse(path_sumo_net_xml.as_posix())\n",
    "for _event, _elem in iter_elem:\n",
    "    if _elem.tag == 'location':\n",
    "        geolocation_obj = _elem.attrib\n",
    "        geolocation_obj['netOffset'] = [float(v) for v in _elem.attrib['netOffset'].split(',')]\n",
    "        geolocation_obj['convBoundary'] = [float(v) for v in _elem.attrib['convBoundary'].split(',')]\n",
    "        geolocation_obj['origBoundary'] = [float(v) for v in _elem.attrib['origBoundary'].split(',')]\n",
    "        break\n",
    "# end for\n",
    "geolocation_obj\n",
    "\n",
    "# Note: the geo-coding is already epsg:4326. Hence no need to convert."
   ]
  },
  {
   "cell_type": "code",
   "execution_count": 4,
   "metadata": {},
   "outputs": [],
   "source": [
    "try:\n",
    "    import sumolib\n",
    "except ImportError:\n",
    "    !pip install sumolib"
   ]
  },
  {
   "cell_type": "code",
   "execution_count": 5,
   "metadata": {},
   "outputs": [],
   "source": [
    "path_dir_load_list = Path(PATH_DIR_LOAD_LIST_JSON)\n",
    "seq_list_road_list_json = list(sorted(path_dir_load_list.rglob('*.json')))\n",
    "assert len(seq_list_road_list_json) > 0, f'No json files found in {path_dir_load_list}'"
   ]
  },
  {
   "cell_type": "code",
   "execution_count": 6,
   "metadata": {},
   "outputs": [],
   "source": [
    "# json.load(seq_list_road_list_json[0].open())"
   ]
  },
  {
   "cell_type": "code",
   "execution_count": 7,
   "metadata": {},
   "outputs": [],
   "source": [
    "from sumolib.net import Net\n",
    "from sumolib.net.edge import Edge\n",
    "from sumolib.net.node import Node\n",
    "from sumolib.net.lane import Lane\n",
    "import sumolib"
   ]
  },
  {
   "cell_type": "code",
   "execution_count": 8,
   "metadata": {},
   "outputs": [
    {
     "name": "stderr",
     "output_type": "stream",
     "text": [
      "[I 240204 14:40:54 3492308146:6] 43.72319396799985,7.40879887680717\n"
     ]
    }
   ],
   "source": [
    "# convert the coordinates. from: https://sumo.dlr.de/docs/Tools/Sumolib.html#coordinate_transformations\n",
    "net = sumolib.net.readNet(PATH_SUMO_NET_XML)\n",
    "\n",
    "lon, lat = net.convertXY2LonLat(3692.09, 462.98)\n",
    "\n",
    "logger.info(f'{lat},{lon}')"
   ]
  },
  {
   "cell_type": "code",
   "execution_count": 9,
   "metadata": {},
   "outputs": [],
   "source": [
    "assert Path(PATH_GMAP_API).exists(), f'File {PATH_GMAP_API} not found'\n",
    "path_apikey = Path(PATH_GMAP_API)\n",
    "_api_key = path_apikey.open().read()"
   ]
  },
  {
   "cell_type": "code",
   "execution_count": 43,
   "metadata": {},
   "outputs": [],
   "source": [
    "# an exmaple to get the edges and lanes\n",
    "\n",
    "def get_lane_id_dict(net: sumolib.net.Net) -> ty.Dict[str, Lane]:\n",
    "    \"\"\"Get the lane id to lane object dictionary from the net object.\n",
    "    \"\"\"\n",
    "    seq_edge_obj = net.getEdges(withInternal=True)\n",
    "    seq_lane_id2lane = {}\n",
    "    for _edge_obj in seq_edge_obj:\n",
    "        _seq_lane_obj = _edge_obj.getLanes()\n",
    "        for _lane_obj in _seq_lane_obj:\n",
    "            seq_lane_id2lane[_lane_obj.getID()] = _lane_obj\n",
    "        # end for\n",
    "    # end for\n",
    "    logger.debug(f'Number of lanes: {len(seq_lane_id2lane)}')\n",
    "    return seq_lane_id2lane\n",
    "\n",
    "\n",
    "def get_edge_polygon_shape_wgs84(dict_lane_id2lane: ty.Dict[str, Lane], \n",
    "                                 lane_id: str,\n",
    "                                 ) -> ty.Optional[ty.List[ty.Tuple[float, float]]]:\n",
    "    \"\"\"Get the polygon shape of the edge in WGS84 coordinate system.\n",
    "    \n",
    "    Returns\n",
    "    -------\n",
    "    ty.Optional[ty.List[ty.Tuple[float, float]]]\n",
    "        The polygon shape of the edge in WGS84 coordinate system, (latitute, longitude)\n",
    "    \"\"\"\n",
    "    if lane_id not in dict_lane_id2lane:\n",
    "        logger.error(f'lane_id {lane_id} not found in the net.')\n",
    "        return None\n",
    "    # end if\n",
    "    lane_obj = dict_lane_id2lane[lane_id]\n",
    "    __polygon_shapes = lane_obj.getShape()\n",
    "    if len(__polygon_shapes) == 0:\n",
    "        logger.error(f'lane_id {lane_id} has no shape.')\n",
    "        return None\n",
    "    # end if\n",
    "    __polygon_wsg84 = [net.convertXY2LonLat(__t_xy[0], __t_xy[1]) for __t_xy  in __polygon_shapes]\n",
    "    logger.debug(f'Number of polygon shapes: {len(__polygon_wsg84)}')\n",
    "    __seq_lat_lon = [(v[1], v[0]) for v in __polygon_wsg84]\n",
    "    return __seq_lat_lon\n"
   ]
  },
  {
   "cell_type": "code",
   "execution_count": 11,
   "metadata": {},
   "outputs": [],
   "source": [
    "# An example to get the position of a junction.\n",
    "# note: ids starting with ':' are junctions. Hence, impossible to get it from the edge API.\n",
    "# net.getEdge(':132185')\n",
    "\n",
    "# sub-procedure to get positions of \"junctions\" from the net file.\n",
    "# When \":\" is the prefix of the edge id, it is a junction.\n",
    "\n",
    "# target_junction_id = '141613'\n",
    "\n",
    "def get_junction_object(net: sumolib.net.Net) -> ty.Dict[str, Node]:\n",
    "    \"\"\"Get the junction object from the net object.\n",
    "    \"\"\"\n",
    "    seq_node_obj = net.getNodes()\n",
    "    dict_nodeID2node= {__node_obj.getID(): __node_obj for __node_obj in seq_node_obj}\n",
    "    return dict_nodeID2node\n",
    "\n",
    "\n",
    "def get_junction_position_wgs84(dict_nodeID2node: ty.Dict[str, Node], \n",
    "                                junction_id: str,\n",
    "                                ) -> ty.Optional[ty.Tuple[float, float]]:\n",
    "    \"\"\"Get the position of the junction in WGS84 coordinate system.\n",
    "    \n",
    "    Returns\n",
    "    -------\n",
    "    ty.Optional[ty.Tuple[float, float]]\n",
    "        The position of the junction in WGS84 coordinate system.\n",
    "    \"\"\"\n",
    "    if junction_id not in dict_nodeID2node:\n",
    "        logger.error(f'junction_id {junction_id} not found in the net.')\n",
    "        return None\n",
    "    # end if\n",
    "    __x, __y = dict_nodeID2node[junction_id].getCoord()\n",
    "    lon, lat = net.convertXY2LonLat(__x, __y)\n",
    "    logger.debug(f'{lat},{lon}')\n",
    "    return lat, lon"
   ]
  },
  {
   "cell_type": "markdown",
   "metadata": {},
   "source": [
    "Gmap API is: https://jupyter-gmaps.readthedocs.io/en/latest/api.html"
   ]
  },
  {
   "cell_type": "code",
   "execution_count": 62,
   "metadata": {},
   "outputs": [
    {
     "name": "stderr",
     "output_type": "stream",
     "text": [
      "[I 240204 15:35:55 668964303:8] N(weights) = 4\n",
      "[D 240204 15:35:56 3952494268:14] Number of lanes: 8621\n"
     ]
    },
    {
     "name": "stderr",
     "output_type": "stream",
     "text": [
      "[D 240204 15:35:56 416692481:34] 43.735285373868926,7.419442499402342\n",
      "[D 240204 15:35:56 416692481:34] 43.73307263235048,7.420069413044834\n",
      "[D 240204 15:35:56 416692481:34] 43.72913336529539,7.410581779457323\n",
      "[D 240204 15:35:56 3952494268:39] Number of polygon shapes: 10\n"
     ]
    },
    {
     "data": {
      "application/vnd.jupyter.widget-view+json": {
       "model_id": "ac64163b2731446e9c6a86cb72cfb68a",
       "version_major": 2,
       "version_minor": 0
      },
      "text/plain": [
       "Figure(layout=FigureLayout(height='420px'))"
      ]
     },
     "metadata": {},
     "output_type": "display_data"
    }
   ],
   "source": [
    "import gmaps\n",
    "from IPython.display import display\n",
    "\n",
    "\n",
    "time_bucket_file = 4\n",
    "weight_file_content = json.load(seq_list_road_list_json[time_bucket_file].open())\n",
    "\n",
    "logger.info(f'N(weights) = {len(weight_file_content)}')\n",
    "\n",
    "dict_nodeID2node = get_junction_object(net)\n",
    "dict_laneID2lane = get_lane_id_dict(net)\n",
    "\n",
    "# Use google maps api\n",
    "gmaps.configure(api_key=_api_key) # Fill in with your API key\n",
    "# # Create the map\n",
    "# fig = gmaps.figure(center=(51.5, -0.1), zoom_level=12)\n",
    "fig = gmaps.figure()\n",
    "\n",
    "\n",
    "seq_ids_node = [t_score for t_score in weight_file_content if ':' in t_score[0]]\n",
    "seq_ids_lanes = [t_score for t_score in weight_file_content if ':' not in t_score[0]]\n",
    "\n",
    "# -------------------------------------\n",
    "# adding junction pins to Google Maps\n",
    "seq_positions = []\n",
    "seq_position_label = []\n",
    "\n",
    "for __t_node_id in seq_ids_node:\n",
    "    __junction_id = __t_node_id[0].split('_')[0].strip(':')\n",
    "    _t_position = get_junction_position_wgs84(dict_nodeID2node, __junction_id)\n",
    "    if _t_position is None:\n",
    "        continue\n",
    "    # end if    \n",
    "    seq_positions.append(_t_position)\n",
    "    seq_position_label.append(f'id={__t_node_id[0]}, weights={__t_node_id[1]}')\n",
    "# end for\n",
    "\n",
    "# -------------------------------------\n",
    "# Adding lane polygons to Google Maps\n",
    "seq_polygon_obj = []\n",
    "\n",
    "for __t_lane_id in seq_ids_lanes:\n",
    "    __lane_id = __t_lane_id[0]\n",
    "    _t_position = get_edge_polygon_shape_wgs84(dict_laneID2lane, __lane_id)\n",
    "    if _t_position is None:\n",
    "        continue\n",
    "    # end if    \n",
    "    _plygon_obj = gmaps.drawing.Polygon(_t_position, stroke_color='blue', fill_color='blue')\n",
    "    # Adding polygon object\n",
    "    seq_polygon_obj.append(_plygon_obj)\n",
    "    # Adding marker at the polygon index 0\n",
    "    seq_positions.append(_t_position[0])\n",
    "    seq_position_label.append(f'id={__t_lane_id[0]}, weights={__t_lane_id[1]}')\n",
    "# end for\n",
    "\n",
    "# -------------------------------------\n",
    "# fig.add_layer(drawing)\n",
    "# creating the layer\n",
    "markers = gmaps.marker_layer(seq_positions, hover_text=seq_position_label)\n",
    "drawing = gmaps.drawing_layer(\n",
    "    features=seq_polygon_obj,\n",
    "    show_controls=False\n",
    ")\n",
    "# -------------------------------------\n",
    "# Adding layer object\n",
    "fig.add_layer(markers)\n",
    "fig.add_layer(drawing)\n",
    "display(fig)"
   ]
  },
  {
   "cell_type": "code",
   "execution_count": null,
   "metadata": {},
   "outputs": [],
   "source": [
    "from ipywidgets.embed import embed_minimal_html\n",
    "import gmaps\n",
    "gmaps.configure(api_key=_api_key)\n",
    "embed_minimal_html('export.html', views=[fig])"
   ]
  }
 ],
 "metadata": {
  "kernelspec": {
   "display_name": "Python 3",
   "language": "python",
   "name": "python3"
  },
  "language_info": {
   "codemirror_mode": {
    "name": "ipython",
    "version": 3
   },
   "file_extension": ".py",
   "mimetype": "text/x-python",
   "name": "python",
   "nbconvert_exporter": "python",
   "pygments_lexer": "ipython3",
   "version": "3.10.0"
  }
 },
 "nbformat": 4,
 "nbformat_minor": 4
}
